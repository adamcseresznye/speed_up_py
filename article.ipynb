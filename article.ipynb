{
 "cells": [
  {
   "cell_type": "raw",
   "id": "b7097881-075b-409b-81b4-c7ecdd4424b3",
   "metadata": {},
   "source": [
    "---\n",
    "title: 'Speed up your Python code 60x'\n",
    "author: Adam Cseresznye\n",
    "date: '2024-06-07'\n",
    "categories:\n",
    "  - Rust\n",
    "jupyter: python3\n",
    "toc: true\n",
    "format:\n",
    "  html:\n",
    "    code-fold: true\n",
    "    code-tools: true\n",
    "---"
   ]
  },
  {
   "cell_type": "markdown",
   "id": "57f841cc-e21c-464f-92cc-3df2a243b63e",
   "metadata": {},
   "source": [
    "![Photo by NASA on UnSplash](https://images.unsplash.com/photo-1614729375290-b2a429db839b?q=80&w=1963&auto=format&fit=crop&ixlib=rb-4.0.3&ixid=M3wxMjA3fDB8MHxwaG90by1wYWdlfHx8fGVufDB8fHx8fA%3D%3D \"Space Shuttle Columbia's STS-4 mission launched from Kennedy Space Center on June 27, 1982\"){fig-align=\"center\" width=50%}"
   ]
  },
  {
   "cell_type": "markdown",
   "id": "d34b8f49-05d1-4ece-94bb-2b6cbd08e5ac",
   "metadata": {},
   "source": [
    "Ever felt the need to turbo boost your Python code? Tired of the seemingly endless wait for your iterations or simulations to complete? Allow me to present the [`rustimport`](https://github.com/mityax/rustimport) library. In its most basic form, `rustimport` empowers you to call highly optimized Rust functions from within your code. This way, you can delegate the heavy-duty tasks to Rust, instead of relying on Python, a language known for its versatility but also for its slower speed. With `rustimport`, you can enjoy the best of both worlds - the simplicity of Python and the performance of Rust."
   ]
  },
  {
   "cell_type": "markdown",
   "id": "d904180a-4a88-4ca0-807f-2793e6a53aec",
   "metadata": {},
   "source": [
    "Let me give you an example: imagine you’re tackling one of the problems from [Project Euler](https://projecteuler.net/problem=50), specifically problem #50. Here’s what the problem statement looks like:\n",
    "\n",
    ">The prime $41$, can be written as the sum of six consecutive primes:\n",
    ">$$41 = 2 + 3 + 5 + 7 + 11 + 13.$$\n",
    ">This is the longest sum of consecutive primes that adds to a prime below one-hundred.\n",
    ">The longest sum of consecutive primes below one-thousand that adds to a prime, contains $21$ terms, and is equal to $953$.\n",
    ">Which prime, below one-million, can be written as the sum of the most consecutive primes?\n",
    "\n",
    "While there are many ways to solve this problem, one approach (though not the fastest) is as follows: "
   ]
  },
  {
   "cell_type": "markdown",
   "id": "818038e1-99a9-488e-a1a6-9f7ccf4cf33d",
   "metadata": {},
   "source": [
    "```python\n",
    "import cProfile\r\n",
    "import pstats\r\n",
    "import io\r\n",
    "\r\n",
    "\r\n",
    "def is_prime(n):\r\n",
    "    if n <= 1:\r\n",
    "        return False\r\n",
    "    i = 2\r\n",
    "    while i * i <= n:\r\n",
    "        if n % i == 0:\r\n",
    "            return False\r\n",
    "        i += 1\r\n",
    "    return True\r\n",
    "\r\n",
    "\r\n",
    "def generate_primes(target):\r\n",
    "    primes = [n for n in range(2, target + 1) if is_prime(n)]\r\n",
    "    return primes\r\n",
    "\r\n",
    "\r\n",
    "def longest_sum_of_consecutive_primes(primes, target):\r\n",
    "    max_length = 0\r\n",
    "    max_prime = 0\r\n",
    "\r\n",
    "    for i in range(len(primes)):\r\n",
    "        for j in range(i + max_length, len(primes)):\r\n",
    "            sum_of_primes = sum(primes[i:j])\r\n",
    "            if sum_of_primes > target:\r\n",
    "                break\r\n",
    "            if is_prime(sum_of_primes) and (j - i) > max_length:\r\n",
    "                max_length = j - i\r\n",
    "                max_prime = sum_of_primes\r\n",
    "\r\n",
    "    return max_prime, max_length\r\n",
    "\r\n",
    "\r\n",
    "def main():\r\n",
    "    TARGET = 1_000_000\r\n",
    "    primes = generate_primes(TARGET)\r\n",
    "    max_prime, max_length = longest_sum_of_consecutive_primes(primes, TARGET)\r\n",
    "    print(f\"Prime: {max_prime}, Length: {max_length}\")\n",
    "\n",
    "```"
   ]
  },
  {
   "cell_type": "markdown",
   "id": "1877b645-1813-4f52-98a1-56db0f0a5136",
   "metadata": {},
   "source": [
    "Let's dive in the code quickly: \n",
    "\n",
    "- The `is_prime(n)` function checks if a number n is prime. It starts by checking if n is less than or equal to 1, in which case it returns False as these are not prime numbers. It then checks divisibility from 2 up to the square root of n. If n is divisible by any of these numbers, it returns False; otherwise, it returns True indicating that n is a prime number.\n",
    "- The `generate_primes(target)` function generates a list of prime numbers up to a given target number, which is in our case 1000. It uses a list comprehension to iterate over the range from 2 to target (inclusive), calling the `is_prime(n)` function for each number n in the range. The result is a list of prime numbers.\n",
    "- The `longest_sum_of_consecutive_primes(primes, target)` function finds the prime number below a given target that can be written as the sum of the most consecutive primes. It starts with two variables, `max_length` and `max_prime`, initialized to 0. It then iterates over the primes list, for each prime calculating the sum of primes from the current prime to the end of the list. If the sum exceeds the target, it breaks the inner loop. If the sum is prime and the length of the sequence is greater than `max_length`, it updates `max_length` and `max_prime`. The function finally returns `max_prime` and `max_length`.\n",
    "\n",
    "*Note:* To evaluate the execution time and identify which functions take longer to run, we use `cProfile`. The statistics generated are then formatted using the `pstats` module. The complete code for all the examples can be found [here](https://github.com/adamcseresznye/speed_up_py)."
   ]
  },
  {
   "cell_type": "markdown",
   "id": "2ef1d93a-6ad0-49d4-8757-70b64c8f0ffd",
   "metadata": {},
   "source": [
    "```\n",
    "    1157601 function calls in 5.517 seconds\n",
    "\n",
    "       Ordered by: cumulative time\n",
    "\n",
    "       ncalls  tottime  percall  cumtime  percall filename:lineno(function)\n",
    "            1    0.000    0.000    5.517    5.517 PE50_v1.py:36(main)\n",
    "            1    0.000    0.000    5.025    5.025 PE50_v1.py:17(generate_primes)\n",
    "            1    0.134    0.134    5.025    5.025 PE50_v1.py:18(<listcomp>)\n",
    "      1000570    4.894    0.000    4.894    0.000 PE50_v1.py:7(is_prime)\n",
    "            1    0.288    0.288    0.491    0.491 PE50_v1.py:21(longest_sum_of_consecutive_primes)\n",
    "        78526    0.197    0.000    0.197    0.000 {built-in method builtins.sum}\n",
    "        78499    0.004    0.000    0.004    0.000 {built-in method builtins.len}\n",
    "            1    0.000    0.000    0.000    0.000 {built-in method builtins.print}\n",
    "            1    0.000    0.000    0.000    0.000 {method 'disable' of '_lsprof.Profiler' objects}\n",
    "```\n",
    "\n",
    "As you can see, this straightforward task required over 5.5 seconds to execute. The primary function, `PE50_v1.py:36(main)`, was invoked once and took a total of 5.517 seconds. The majority of this time was spent calling the function `PE50_v1.py:17(generate_primes)`, which itself spent most of its time calling `PE50_v1.py:7(is_prime)` over a million times. The function `PE50_v1.py:21(longest_sum_of_consecutive_primes)` also consumed a significant amount of time. Additionally, the built-in functions `sum` and `len` were called multiple times. \n"
   ]
  },
  {
   "cell_type": "markdown",
   "id": "56941287-8b5e-4a6b-b1f8-d4dfdc173781",
   "metadata": {},
   "source": [
    "## Replacing the `is_prime` function\n",
    "\n",
    "From the profiling results, it's clear that `is_prime` is a prime candidate (pun intended) for replacement with a Rust equivalent. Let's explore how we can achieve this.\n",
    "\n",
    "Firstly, we need to install the `rustimport` library. This can be done using pip: `pip install rustimport`. Following this, we can create a Rust file, which we'll name `rs_extension.rs` for this example. Now, let's write some Rust code."
   ]
  },
  {
   "cell_type": "markdown",
   "id": "19d022ed-d430-4ec6-a8f1-450c5597d685",
   "metadata": {},
   "source": [
    "```rust\n",
    "// rustimport:pyo3\n",
    "\n",
    "use pyo3::prelude::*;\n",
    "\n",
    "#[pyfunction]\n",
    "fn is_prime(n: u32) -> bool {\n",
    "    if n <= 1 {\n",
    "        return false;\n",
    "    }\n",
    "    let mut i = 2;\n",
    "    while i * i <= n {\n",
    "        if n % i == 0 {\n",
    "            return false;\n",
    "        }\n",
    "        i += 1;\n",
    "    }\n",
    "    true\n",
    "}\n",
    "```"
   ]
  },
  {
   "cell_type": "markdown",
   "id": "66ff25b7-7398-40fb-9bbb-ece232a52b76",
   "metadata": {},
   "source": [
    "Upon comparing the Python `is_prime` function with its Rust counterpart, you'll notice some similarities. The key difference comes from Rust's statically and strongly typed system, which requires us to specify the type of the input variables and return types. Not to worry, it's simple; we anticipate an unsigned integer (positive integers only) and return a boolean value indicating whether or not the integer is prime. Let's see what kind of speed up we get."
   ]
  },
  {
   "cell_type": "markdown",
   "id": "494a9ee1-e547-4fab-9aed-afed94f859c4",
   "metadata": {},
   "source": [
    "::: {.callout-warning}\r",
    "If your Rust code isn't performing as expected, it could be because it was compiled in debug mode, which doesn't enable optimizations. However, by running the `python -m rustimport build --release` command, you can generate Rust code that is highly optimized and significantly faster. Give it a try!`.\r\n",
    ":::"
   ]
  },
  {
   "cell_type": "markdown",
   "id": "98355336-1e7d-4bc3-bcc3-8dbf73c7d75e",
   "metadata": {},
   "source": [
    "```\n",
    "         1157601 function calls in 0.641 seconds\n",
    "\n",
    "   Ordered by: cumulative time\n",
    "\n",
    "   ncalls  tottime  percall  cumtime  percall filename:lineno(function)\n",
    "        1    0.000    0.000    0.641    0.641 PE50_v1.py:30(main)\n",
    "        1    0.197    0.197    0.391    0.391 PE50_v1.py:14(longest_sum_of_consecutive_primes)\n",
    "        1    0.000    0.000    0.249    0.249 PE50_v1.py:9(generate_primes)\n",
    "        1    0.089    0.089    0.249    0.249 PE50_v1.py:10(<listcomp>)\n",
    "    78526    0.191    0.000    0.191    0.000 {built-in method builtins.sum}\n",
    "  1000570    0.160    0.000    0.160    0.000 {built-in method rs_extension.is_prime}\n",
    "    78499    0.004    0.000    0.004    0.000 {built-in method builtins.len}\n",
    "        1    0.000    0.000    0.000    0.000 {built-in method builtins.print}\n",
    "        1    0.000    0.000    0.000    0.000 {method 'disable' of '_lsprof.Profiler' objects}\n",
    "```"
   ]
  },
  {
   "cell_type": "markdown",
   "id": "59f3e308-d237-4d77-9d99-76b8dec11f7a",
   "metadata": {},
   "source": [
    "\n",
    "\n",
    "🤯🤯🤯🤯 Our execution time went from 5.517 seconds to 0.641 seconds 🚀. That's a whopping 8.6 times speed up, achieved by replacing just one function. The `is_prime` function now takes a total of 0.16 seconds to execute. But why stop here? We can push the boundaries even further. \n",
    "\n",
    "Consider the `longest_sum_of_consecutive_primes` function. It performs a substantial amount of work, and if we could harness the power of Rust for this function, we could potentially slash the execution time even more. Let´s give it a try."
   ]
  },
  {
   "cell_type": "markdown",
   "id": "60870b33-2de2-4e95-8b3e-a07cc395cd51",
   "metadata": {},
   "source": [
    "## Replacing the `longest_sum_of_consecutive_primes` function\n"
   ]
  },
  {
   "cell_type": "markdown",
   "id": "561b15a9-25d8-4ee4-8141-364adfea1d30",
   "metadata": {},
   "source": [
    "```rust\n",
    "#[pyfunction]\n",
    "fn longest_sum_of_consecutive_primes(primes: Vec<u32>, target: u32) -> (u32, usize) {\n",
    "    let mut max_length: usize = 0;\n",
    "    let mut max_prime: u32 = 0;\n",
    "\n",
    "    for i in 0..primes.len() {\n",
    "        for j in i + max_length..primes.len() {\n",
    "            let sum_of_primes: u32 = primes[i..j].iter().sum();\n",
    "            if sum_of_primes > target {\n",
    "                break;\n",
    "            }\n",
    "            if is_prime(sum_of_primes) && (j - i) > max_length {\n",
    "                max_length = j - i;\n",
    "                max_prime = sum_of_primes;\n",
    "            }\n",
    "        }\n",
    "    }\n",
    "    (max_prime, max_length)\n",
    "}\n",
    "```"
   ]
  },
  {
   "cell_type": "markdown",
   "id": "a00b44c6-cf10-442a-816b-e195f17d1c4d",
   "metadata": {},
   "source": [
    "Now this Rust function looks quite a bit different from our original Python function, but it's still possible to understand what's going on even if you haven't seen Rust code before. In this case, we're supplying the function with a vector of prime numbers, each represented as `u32` values, and a target number, which is 1000 in our case. The function then returns the solution to our problem: the number (`max_prime`) that can be expressed as the sum of the greatest number of consecutive primes, and the actual count of these consecutive primes (`max-length`). This is the result from our second optimization:\n",
    "\n",
    "```\n",
    "         1000005 function calls in 0.252 seconds\n",
    "\n",
    "   Ordered by: cumulative time\n",
    "\n",
    "   ncalls  tottime  percall  cumtime  percall filename:lineno(function)\n",
    "        1    0.000    0.000    0.252    0.252 PE50_v2.py:14(main)\n",
    "        1    0.000    0.000    0.248    0.248 PE50_v2.py:9(generate_primes)\n",
    "        1    0.088    0.088    0.248    0.248 PE50_v2.py:10(<listcomp>)\n",
    "   999999    0.160    0.000    0.160    0.000 {built-in method rs_extension.is_prime}\n",
    "        1    0.004    0.004    0.004    0.004 {built-in method rs_extension.longest_sum_of_consecutive_primes}\n",
    "        1    0.000    0.000    0.000    0.000 {built-in method builtins.print}\n",
    "        1    0.000    0.000    0.000    0.000 {method 'disable' of '_lsprof.Profiler' objects}\n",
    "```\n",
    "\n",
    "🤯🤯🤯🤯 Our execution time has now been reduced to just 0.252 seconds, a further improvement of 2.5 times. In total, we've achieved a staggering 21.5 times speedup compared to our original Python implementation. The `longest_sum_of_consecutive_primes` function, which previously took 0.391 seconds to execute, now completes in a mere 0.004 seconds. This is a significant achievement! \n",
    "\n",
    "As you might have guessed, we're not stopping here 😈. We still have one more Python function left to convert to Rust 🦀. Let's do that and see how much more we can optimize our code!\n"
   ]
  },
  {
   "cell_type": "markdown",
   "id": "8549820b-2475-430e-8a71-0b1d3a86ec73",
   "metadata": {},
   "source": [
    "## Replacing the `generate_primes` function"
   ]
  },
  {
   "cell_type": "markdown",
   "id": "1a496cfb-fcc8-4d08-90a9-e5cc1a76f0a6",
   "metadata": {},
   "source": [
    "```rust\n",
    "#[pyfunction]\n",
    "fn generate_primes(target: u32) -> Vec<u32> {\n",
    "    (2..=target).filter(|&n| is_prime(n)).collect::<Vec<u32>>()\n",
    "}\n",
    "```\n",
    "This Rust code, while seemingly simple, is quite powerful. It generates, or more accurately, filters out prime numbers up to a specified range. Given that Rust is heavily inspired by OCaml and Haskell, you may notice the influence of functional programming paradigms throughout the language (and in this example)."
   ]
  },
  {
   "cell_type": "markdown",
   "id": "587f63d5-0c10-4d83-9e32-cd61f3e9f3d4",
   "metadata": {},
   "source": [
    "```\n",
    "         5 function calls in 0.092 seconds\n",
    "\n",
    "   Ordered by: cumulative time\n",
    "\n",
    "   ncalls  tottime  percall  cumtime  percall filename:lineno(function)\n",
    "        1    0.000    0.000    0.092    0.092 PE50_v3.py:9(main)\n",
    "        1    0.088    0.088    0.088    0.088 {built-in method rs_extension.generate_primes}\n",
    "        1    0.004    0.004    0.004    0.004 {built-in method rs_extension.longest_sum_of_consecutive_primes}\n",
    "        1    0.000    0.000    0.000    0.000 {built-in method builtins.print}\n",
    "        1    0.000    0.000    0.000    0.000 {method 'disable' of '_lsprof.Profiler' objects}\n",
    "\n",
    "```\n",
    "  \n",
    "😲😵‍💫🤯💥💥💥 And there you have it! 🎉 Rust did it again. The execution time has been slashed from 0.252 seconds to a mere 0.092 seconds, making it 2.7 times faster. The `generate_primes` function, which previously took 0.248 seconds, now completes in just 0.088 seconds. And thus our code went from taking 5.517 sec to just 0.092 sec...\n"
   ]
  },
  {
   "cell_type": "markdown",
   "id": "c9fbd7f8-f064-4da8-89d0-38feba0d81c0",
   "metadata": {},
   "source": [
    "Here is our final iteration:\n",
    "\n",
    "```python\n",
    "import cProfile\n",
    "import pstats\n",
    "import io\n",
    "\n",
    "# import rustimport.import_hook\n",
    "import rs_extension\n",
    "\n",
    "\n",
    "def main():\n",
    "    TARGET = 1_000_000\n",
    "    primes = rs_extension.generate_primes(TARGET)\n",
    "    max_prime, max_length = rs_extension.longest_sum_of_consecutive_primes(\n",
    "        primes, TARGET\n",
    "    )\n",
    "    print(f\"Prime: {max_prime}, Length: {max_length}\")\n",
    "\n",
    "```"
   ]
  },
  {
   "cell_type": "code",
   "execution_count": 25,
   "id": "43b2705a-5d0d-4baa-a016-21325d904db1",
   "metadata": {},
   "outputs": [
    {
     "data": {
      "application/vnd.plotly.v1+json": {
       "config": {
        "plotlyServerURL": "https://plotly.com"
       },
       "data": [
        {
         "alignmentgroup": "True",
         "hovertemplate": "step=%{y}<br>execution_time=%{x}<extra></extra>",
         "legendgroup": "original",
         "marker": {
          "color": "#636efa",
          "pattern": {
           "shape": ""
          }
         },
         "name": "original",
         "offsetgroup": "original",
         "orientation": "h",
         "showlegend": true,
         "textposition": "auto",
         "type": "bar",
         "x": [
          5.517
         ],
         "xaxis": "x",
         "y": [
          "original"
         ],
         "yaxis": "y"
        },
        {
         "alignmentgroup": "True",
         "hovertemplate": "step=%{y}<br>execution_time=%{x}<extra></extra>",
         "legendgroup": "rewrite is_prime",
         "marker": {
          "color": "#EF553B",
          "pattern": {
           "shape": ""
          }
         },
         "name": "rewrite is_prime",
         "offsetgroup": "rewrite is_prime",
         "orientation": "h",
         "showlegend": true,
         "textposition": "auto",
         "type": "bar",
         "x": [
          0.641
         ],
         "xaxis": "x",
         "y": [
          "rewrite is_prime"
         ],
         "yaxis": "y"
        },
        {
         "alignmentgroup": "True",
         "hovertemplate": "step=%{y}<br>execution_time=%{x}<extra></extra>",
         "legendgroup": "rewrite longest_sum_of_consecutive_primes",
         "marker": {
          "color": "#00cc96",
          "pattern": {
           "shape": ""
          }
         },
         "name": "rewrite longest_sum_of_consecutive_primes",
         "offsetgroup": "rewrite longest_sum_of_consecutive_primes",
         "orientation": "h",
         "showlegend": true,
         "textposition": "auto",
         "type": "bar",
         "x": [
          0.252
         ],
         "xaxis": "x",
         "y": [
          "rewrite longest_sum_of_consecutive_primes"
         ],
         "yaxis": "y"
        },
        {
         "alignmentgroup": "True",
         "hovertemplate": "step=%{y}<br>execution_time=%{x}<extra></extra>",
         "legendgroup": "rewrite generate_primes",
         "marker": {
          "color": "#ab63fa",
          "pattern": {
           "shape": ""
          }
         },
         "name": "rewrite generate_primes",
         "offsetgroup": "rewrite generate_primes",
         "orientation": "h",
         "showlegend": true,
         "textposition": "auto",
         "type": "bar",
         "x": [
          0.092
         ],
         "xaxis": "x",
         "y": [
          "rewrite generate_primes"
         ],
         "yaxis": "y"
        }
       ],
       "layout": {
        "autosize": true,
        "barmode": "relative",
        "legend": {
         "title": {
          "text": "step"
         },
         "tracegroupgap": 0
        },
        "showlegend": false,
        "template": {
         "data": {
          "bar": [
           {
            "error_x": {
             "color": "#2a3f5f"
            },
            "error_y": {
             "color": "#2a3f5f"
            },
            "marker": {
             "line": {
              "color": "white",
              "width": 0.5
             },
             "pattern": {
              "fillmode": "overlay",
              "size": 10,
              "solidity": 0.2
             }
            },
            "type": "bar"
           }
          ],
          "barpolar": [
           {
            "marker": {
             "line": {
              "color": "white",
              "width": 0.5
             },
             "pattern": {
              "fillmode": "overlay",
              "size": 10,
              "solidity": 0.2
             }
            },
            "type": "barpolar"
           }
          ],
          "carpet": [
           {
            "aaxis": {
             "endlinecolor": "#2a3f5f",
             "gridcolor": "#C8D4E3",
             "linecolor": "#C8D4E3",
             "minorgridcolor": "#C8D4E3",
             "startlinecolor": "#2a3f5f"
            },
            "baxis": {
             "endlinecolor": "#2a3f5f",
             "gridcolor": "#C8D4E3",
             "linecolor": "#C8D4E3",
             "minorgridcolor": "#C8D4E3",
             "startlinecolor": "#2a3f5f"
            },
            "type": "carpet"
           }
          ],
          "choropleth": [
           {
            "colorbar": {
             "outlinewidth": 0,
             "ticks": ""
            },
            "type": "choropleth"
           }
          ],
          "contour": [
           {
            "colorbar": {
             "outlinewidth": 0,
             "ticks": ""
            },
            "colorscale": [
             [
              0,
              "#0d0887"
             ],
             [
              0.1111111111111111,
              "#46039f"
             ],
             [
              0.2222222222222222,
              "#7201a8"
             ],
             [
              0.3333333333333333,
              "#9c179e"
             ],
             [
              0.4444444444444444,
              "#bd3786"
             ],
             [
              0.5555555555555556,
              "#d8576b"
             ],
             [
              0.6666666666666666,
              "#ed7953"
             ],
             [
              0.7777777777777778,
              "#fb9f3a"
             ],
             [
              0.8888888888888888,
              "#fdca26"
             ],
             [
              1,
              "#f0f921"
             ]
            ],
            "type": "contour"
           }
          ],
          "contourcarpet": [
           {
            "colorbar": {
             "outlinewidth": 0,
             "ticks": ""
            },
            "type": "contourcarpet"
           }
          ],
          "heatmap": [
           {
            "colorbar": {
             "outlinewidth": 0,
             "ticks": ""
            },
            "colorscale": [
             [
              0,
              "#0d0887"
             ],
             [
              0.1111111111111111,
              "#46039f"
             ],
             [
              0.2222222222222222,
              "#7201a8"
             ],
             [
              0.3333333333333333,
              "#9c179e"
             ],
             [
              0.4444444444444444,
              "#bd3786"
             ],
             [
              0.5555555555555556,
              "#d8576b"
             ],
             [
              0.6666666666666666,
              "#ed7953"
             ],
             [
              0.7777777777777778,
              "#fb9f3a"
             ],
             [
              0.8888888888888888,
              "#fdca26"
             ],
             [
              1,
              "#f0f921"
             ]
            ],
            "type": "heatmap"
           }
          ],
          "heatmapgl": [
           {
            "colorbar": {
             "outlinewidth": 0,
             "ticks": ""
            },
            "colorscale": [
             [
              0,
              "#0d0887"
             ],
             [
              0.1111111111111111,
              "#46039f"
             ],
             [
              0.2222222222222222,
              "#7201a8"
             ],
             [
              0.3333333333333333,
              "#9c179e"
             ],
             [
              0.4444444444444444,
              "#bd3786"
             ],
             [
              0.5555555555555556,
              "#d8576b"
             ],
             [
              0.6666666666666666,
              "#ed7953"
             ],
             [
              0.7777777777777778,
              "#fb9f3a"
             ],
             [
              0.8888888888888888,
              "#fdca26"
             ],
             [
              1,
              "#f0f921"
             ]
            ],
            "type": "heatmapgl"
           }
          ],
          "histogram": [
           {
            "marker": {
             "pattern": {
              "fillmode": "overlay",
              "size": 10,
              "solidity": 0.2
             }
            },
            "type": "histogram"
           }
          ],
          "histogram2d": [
           {
            "colorbar": {
             "outlinewidth": 0,
             "ticks": ""
            },
            "colorscale": [
             [
              0,
              "#0d0887"
             ],
             [
              0.1111111111111111,
              "#46039f"
             ],
             [
              0.2222222222222222,
              "#7201a8"
             ],
             [
              0.3333333333333333,
              "#9c179e"
             ],
             [
              0.4444444444444444,
              "#bd3786"
             ],
             [
              0.5555555555555556,
              "#d8576b"
             ],
             [
              0.6666666666666666,
              "#ed7953"
             ],
             [
              0.7777777777777778,
              "#fb9f3a"
             ],
             [
              0.8888888888888888,
              "#fdca26"
             ],
             [
              1,
              "#f0f921"
             ]
            ],
            "type": "histogram2d"
           }
          ],
          "histogram2dcontour": [
           {
            "colorbar": {
             "outlinewidth": 0,
             "ticks": ""
            },
            "colorscale": [
             [
              0,
              "#0d0887"
             ],
             [
              0.1111111111111111,
              "#46039f"
             ],
             [
              0.2222222222222222,
              "#7201a8"
             ],
             [
              0.3333333333333333,
              "#9c179e"
             ],
             [
              0.4444444444444444,
              "#bd3786"
             ],
             [
              0.5555555555555556,
              "#d8576b"
             ],
             [
              0.6666666666666666,
              "#ed7953"
             ],
             [
              0.7777777777777778,
              "#fb9f3a"
             ],
             [
              0.8888888888888888,
              "#fdca26"
             ],
             [
              1,
              "#f0f921"
             ]
            ],
            "type": "histogram2dcontour"
           }
          ],
          "mesh3d": [
           {
            "colorbar": {
             "outlinewidth": 0,
             "ticks": ""
            },
            "type": "mesh3d"
           }
          ],
          "parcoords": [
           {
            "line": {
             "colorbar": {
              "outlinewidth": 0,
              "ticks": ""
             }
            },
            "type": "parcoords"
           }
          ],
          "pie": [
           {
            "automargin": true,
            "type": "pie"
           }
          ],
          "scatter": [
           {
            "fillpattern": {
             "fillmode": "overlay",
             "size": 10,
             "solidity": 0.2
            },
            "type": "scatter"
           }
          ],
          "scatter3d": [
           {
            "line": {
             "colorbar": {
              "outlinewidth": 0,
              "ticks": ""
             }
            },
            "marker": {
             "colorbar": {
              "outlinewidth": 0,
              "ticks": ""
             }
            },
            "type": "scatter3d"
           }
          ],
          "scattercarpet": [
           {
            "marker": {
             "colorbar": {
              "outlinewidth": 0,
              "ticks": ""
             }
            },
            "type": "scattercarpet"
           }
          ],
          "scattergeo": [
           {
            "marker": {
             "colorbar": {
              "outlinewidth": 0,
              "ticks": ""
             }
            },
            "type": "scattergeo"
           }
          ],
          "scattergl": [
           {
            "marker": {
             "colorbar": {
              "outlinewidth": 0,
              "ticks": ""
             }
            },
            "type": "scattergl"
           }
          ],
          "scattermapbox": [
           {
            "marker": {
             "colorbar": {
              "outlinewidth": 0,
              "ticks": ""
             }
            },
            "type": "scattermapbox"
           }
          ],
          "scatterpolar": [
           {
            "marker": {
             "colorbar": {
              "outlinewidth": 0,
              "ticks": ""
             }
            },
            "type": "scatterpolar"
           }
          ],
          "scatterpolargl": [
           {
            "marker": {
             "colorbar": {
              "outlinewidth": 0,
              "ticks": ""
             }
            },
            "type": "scatterpolargl"
           }
          ],
          "scatterternary": [
           {
            "marker": {
             "colorbar": {
              "outlinewidth": 0,
              "ticks": ""
             }
            },
            "type": "scatterternary"
           }
          ],
          "surface": [
           {
            "colorbar": {
             "outlinewidth": 0,
             "ticks": ""
            },
            "colorscale": [
             [
              0,
              "#0d0887"
             ],
             [
              0.1111111111111111,
              "#46039f"
             ],
             [
              0.2222222222222222,
              "#7201a8"
             ],
             [
              0.3333333333333333,
              "#9c179e"
             ],
             [
              0.4444444444444444,
              "#bd3786"
             ],
             [
              0.5555555555555556,
              "#d8576b"
             ],
             [
              0.6666666666666666,
              "#ed7953"
             ],
             [
              0.7777777777777778,
              "#fb9f3a"
             ],
             [
              0.8888888888888888,
              "#fdca26"
             ],
             [
              1,
              "#f0f921"
             ]
            ],
            "type": "surface"
           }
          ],
          "table": [
           {
            "cells": {
             "fill": {
              "color": "#EBF0F8"
             },
             "line": {
              "color": "white"
             }
            },
            "header": {
             "fill": {
              "color": "#C8D4E3"
             },
             "line": {
              "color": "white"
             }
            },
            "type": "table"
           }
          ]
         },
         "layout": {
          "annotationdefaults": {
           "arrowcolor": "#2a3f5f",
           "arrowhead": 0,
           "arrowwidth": 1
          },
          "autotypenumbers": "strict",
          "coloraxis": {
           "colorbar": {
            "outlinewidth": 0,
            "ticks": ""
           }
          },
          "colorscale": {
           "diverging": [
            [
             0,
             "#8e0152"
            ],
            [
             0.1,
             "#c51b7d"
            ],
            [
             0.2,
             "#de77ae"
            ],
            [
             0.3,
             "#f1b6da"
            ],
            [
             0.4,
             "#fde0ef"
            ],
            [
             0.5,
             "#f7f7f7"
            ],
            [
             0.6,
             "#e6f5d0"
            ],
            [
             0.7,
             "#b8e186"
            ],
            [
             0.8,
             "#7fbc41"
            ],
            [
             0.9,
             "#4d9221"
            ],
            [
             1,
             "#276419"
            ]
           ],
           "sequential": [
            [
             0,
             "#0d0887"
            ],
            [
             0.1111111111111111,
             "#46039f"
            ],
            [
             0.2222222222222222,
             "#7201a8"
            ],
            [
             0.3333333333333333,
             "#9c179e"
            ],
            [
             0.4444444444444444,
             "#bd3786"
            ],
            [
             0.5555555555555556,
             "#d8576b"
            ],
            [
             0.6666666666666666,
             "#ed7953"
            ],
            [
             0.7777777777777778,
             "#fb9f3a"
            ],
            [
             0.8888888888888888,
             "#fdca26"
            ],
            [
             1,
             "#f0f921"
            ]
           ],
           "sequentialminus": [
            [
             0,
             "#0d0887"
            ],
            [
             0.1111111111111111,
             "#46039f"
            ],
            [
             0.2222222222222222,
             "#7201a8"
            ],
            [
             0.3333333333333333,
             "#9c179e"
            ],
            [
             0.4444444444444444,
             "#bd3786"
            ],
            [
             0.5555555555555556,
             "#d8576b"
            ],
            [
             0.6666666666666666,
             "#ed7953"
            ],
            [
             0.7777777777777778,
             "#fb9f3a"
            ],
            [
             0.8888888888888888,
             "#fdca26"
            ],
            [
             1,
             "#f0f921"
            ]
           ]
          },
          "colorway": [
           "#636efa",
           "#EF553B",
           "#00cc96",
           "#ab63fa",
           "#FFA15A",
           "#19d3f3",
           "#FF6692",
           "#B6E880",
           "#FF97FF",
           "#FECB52"
          ],
          "font": {
           "color": "#2a3f5f"
          },
          "geo": {
           "bgcolor": "white",
           "lakecolor": "white",
           "landcolor": "white",
           "showlakes": true,
           "showland": true,
           "subunitcolor": "#C8D4E3"
          },
          "hoverlabel": {
           "align": "left"
          },
          "hovermode": "closest",
          "mapbox": {
           "style": "light"
          },
          "paper_bgcolor": "white",
          "plot_bgcolor": "white",
          "polar": {
           "angularaxis": {
            "gridcolor": "#EBF0F8",
            "linecolor": "#EBF0F8",
            "ticks": ""
           },
           "bgcolor": "white",
           "radialaxis": {
            "gridcolor": "#EBF0F8",
            "linecolor": "#EBF0F8",
            "ticks": ""
           }
          },
          "scene": {
           "xaxis": {
            "backgroundcolor": "white",
            "gridcolor": "#DFE8F3",
            "gridwidth": 2,
            "linecolor": "#EBF0F8",
            "showbackground": true,
            "ticks": "",
            "zerolinecolor": "#EBF0F8"
           },
           "yaxis": {
            "backgroundcolor": "white",
            "gridcolor": "#DFE8F3",
            "gridwidth": 2,
            "linecolor": "#EBF0F8",
            "showbackground": true,
            "ticks": "",
            "zerolinecolor": "#EBF0F8"
           },
           "zaxis": {
            "backgroundcolor": "white",
            "gridcolor": "#DFE8F3",
            "gridwidth": 2,
            "linecolor": "#EBF0F8",
            "showbackground": true,
            "ticks": "",
            "zerolinecolor": "#EBF0F8"
           }
          },
          "shapedefaults": {
           "line": {
            "color": "#2a3f5f"
           }
          },
          "ternary": {
           "aaxis": {
            "gridcolor": "#DFE8F3",
            "linecolor": "#A2B1C6",
            "ticks": ""
           },
           "baxis": {
            "gridcolor": "#DFE8F3",
            "linecolor": "#A2B1C6",
            "ticks": ""
           },
           "bgcolor": "white",
           "caxis": {
            "gridcolor": "#DFE8F3",
            "linecolor": "#A2B1C6",
            "ticks": ""
           }
          },
          "title": {
           "x": 0.05
          },
          "xaxis": {
           "automargin": true,
           "gridcolor": "#EBF0F8",
           "linecolor": "#EBF0F8",
           "ticks": "",
           "title": {
            "standoff": 15
           },
           "zerolinecolor": "#EBF0F8",
           "zerolinewidth": 2
          },
          "yaxis": {
           "automargin": true,
           "gridcolor": "#EBF0F8",
           "linecolor": "#EBF0F8",
           "ticks": "",
           "title": {
            "standoff": 15
           },
           "zerolinecolor": "#EBF0F8",
           "zerolinewidth": 2
          }
         }
        },
        "title": {
         "text": "Turbocharging Performance: A 60x Speed Boost with Rust!"
        },
        "xaxis": {
         "anchor": "y",
         "autorange": true,
         "domain": [
          0,
          1
         ],
         "range": [
          0,
          5.807368421052632
         ],
         "title": {
          "text": "Execution time (s)"
         },
         "type": "linear"
        },
        "yaxis": {
         "anchor": "x",
         "autorange": true,
         "categoryarray": [
          "rewrite generate_primes",
          "rewrite longest_sum_of_consecutive_primes",
          "rewrite is_prime",
          "original"
         ],
         "categoryorder": "array",
         "domain": [
          0,
          1
         ],
         "range": [
          -0.5,
          3.5
         ],
         "title": {
          "text": ""
         },
         "type": "category",
         "visible": true
        }
       }
      },
      "image/png": "[encoded data removed]",
      "text/html": [
       "<div>                            <div id=\"99391c78-67bc-47e5-acdf-580a8c950521\" class=\"plotly-graph-div\" style=\"height:525px; width:100%;\"></div>            <script type=\"text/javascript\">                require([\"plotly\"], function(Plotly) {                    window.PLOTLYENV=window.PLOTLYENV || {};                                    if (document.getElementById(\"99391c78-67bc-47e5-acdf-580a8c950521\")) {                    Plotly.newPlot(                        \"99391c78-67bc-47e5-acdf-580a8c950521\",                        [{\"alignmentgroup\":\"True\",\"hovertemplate\":\"step=%{y}\\u003cbr\\u003eexecution_time=%{x}\\u003cextra\\u003e\\u003c\\u002fextra\\u003e\",\"legendgroup\":\"original\",\"marker\":{\"color\":\"#636efa\",\"pattern\":{\"shape\":\"\"}},\"name\":\"original\",\"offsetgroup\":\"original\",\"orientation\":\"h\",\"showlegend\":true,\"textposition\":\"auto\",\"x\":[5.517],\"xaxis\":\"x\",\"y\":[\"original\"],\"yaxis\":\"y\",\"type\":\"bar\"},{\"alignmentgroup\":\"True\",\"hovertemplate\":\"step=%{y}\\u003cbr\\u003eexecution_time=%{x}\\u003cextra\\u003e\\u003c\\u002fextra\\u003e\",\"legendgroup\":\"rewrite is_prime\",\"marker\":{\"color\":\"#EF553B\",\"pattern\":{\"shape\":\"\"}},\"name\":\"rewrite is_prime\",\"offsetgroup\":\"rewrite is_prime\",\"orientation\":\"h\",\"showlegend\":true,\"textposition\":\"auto\",\"x\":[0.641],\"xaxis\":\"x\",\"y\":[\"rewrite is_prime\"],\"yaxis\":\"y\",\"type\":\"bar\"},{\"alignmentgroup\":\"True\",\"hovertemplate\":\"step=%{y}\\u003cbr\\u003eexecution_time=%{x}\\u003cextra\\u003e\\u003c\\u002fextra\\u003e\",\"legendgroup\":\"rewrite longest_sum_of_consecutive_primes\",\"marker\":{\"color\":\"#00cc96\",\"pattern\":{\"shape\":\"\"}},\"name\":\"rewrite longest_sum_of_consecutive_primes\",\"offsetgroup\":\"rewrite longest_sum_of_consecutive_primes\",\"orientation\":\"h\",\"showlegend\":true,\"textposition\":\"auto\",\"x\":[0.252],\"xaxis\":\"x\",\"y\":[\"rewrite longest_sum_of_consecutive_primes\"],\"yaxis\":\"y\",\"type\":\"bar\"},{\"alignmentgroup\":\"True\",\"hovertemplate\":\"step=%{y}\\u003cbr\\u003eexecution_time=%{x}\\u003cextra\\u003e\\u003c\\u002fextra\\u003e\",\"legendgroup\":\"rewrite generate_primes\",\"marker\":{\"color\":\"#ab63fa\",\"pattern\":{\"shape\":\"\"}},\"name\":\"rewrite generate_primes\",\"offsetgroup\":\"rewrite generate_primes\",\"orientation\":\"h\",\"showlegend\":true,\"textposition\":\"auto\",\"x\":[0.092],\"xaxis\":\"x\",\"y\":[\"rewrite generate_primes\"],\"yaxis\":\"y\",\"type\":\"bar\"}],                        {\"template\":{\"data\":{\"barpolar\":[{\"marker\":{\"line\":{\"color\":\"white\",\"width\":0.5},\"pattern\":{\"fillmode\":\"overlay\",\"size\":10,\"solidity\":0.2}},\"type\":\"barpolar\"}],\"bar\":[{\"error_x\":{\"color\":\"#2a3f5f\"},\"error_y\":{\"color\":\"#2a3f5f\"},\"marker\":{\"line\":{\"color\":\"white\",\"width\":0.5},\"pattern\":{\"fillmode\":\"overlay\",\"size\":10,\"solidity\":0.2}},\"type\":\"bar\"}],\"carpet\":[{\"aaxis\":{\"endlinecolor\":\"#2a3f5f\",\"gridcolor\":\"#C8D4E3\",\"linecolor\":\"#C8D4E3\",\"minorgridcolor\":\"#C8D4E3\",\"startlinecolor\":\"#2a3f5f\"},\"baxis\":{\"endlinecolor\":\"#2a3f5f\",\"gridcolor\":\"#C8D4E3\",\"linecolor\":\"#C8D4E3\",\"minorgridcolor\":\"#C8D4E3\",\"startlinecolor\":\"#2a3f5f\"},\"type\":\"carpet\"}],\"choropleth\":[{\"colorbar\":{\"outlinewidth\":0,\"ticks\":\"\"},\"type\":\"choropleth\"}],\"contourcarpet\":[{\"colorbar\":{\"outlinewidth\":0,\"ticks\":\"\"},\"type\":\"contourcarpet\"}],\"contour\":[{\"colorbar\":{\"outlinewidth\":0,\"ticks\":\"\"},\"colorscale\":[[0.0,\"#0d0887\"],[0.1111111111111111,\"#46039f\"],[0.2222222222222222,\"#7201a8\"],[0.3333333333333333,\"#9c179e\"],[0.4444444444444444,\"#bd3786\"],[0.5555555555555556,\"#d8576b\"],[0.6666666666666666,\"#ed7953\"],[0.7777777777777778,\"#fb9f3a\"],[0.8888888888888888,\"#fdca26\"],[1.0,\"#f0f921\"]],\"type\":\"contour\"}],\"heatmapgl\":[{\"colorbar\":{\"outlinewidth\":0,\"ticks\":\"\"},\"colorscale\":[[0.0,\"#0d0887\"],[0.1111111111111111,\"#46039f\"],[0.2222222222222222,\"#7201a8\"],[0.3333333333333333,\"#9c179e\"],[0.4444444444444444,\"#bd3786\"],[0.5555555555555556,\"#d8576b\"],[0.6666666666666666,\"#ed7953\"],[0.7777777777777778,\"#fb9f3a\"],[0.8888888888888888,\"#fdca26\"],[1.0,\"#f0f921\"]],\"type\":\"heatmapgl\"}],\"heatmap\":[{\"colorbar\":{\"outlinewidth\":0,\"ticks\":\"\"},\"colorscale\":[[0.0,\"#0d0887\"],[0.1111111111111111,\"#46039f\"],[0.2222222222222222,\"#7201a8\"],[0.3333333333333333,\"#9c179e\"],[0.4444444444444444,\"#bd3786\"],[0.5555555555555556,\"#d8576b\"],[0.6666666666666666,\"#ed7953\"],[0.7777777777777778,\"#fb9f3a\"],[0.8888888888888888,\"#fdca26\"],[1.0,\"#f0f921\"]],\"type\":\"heatmap\"}],\"histogram2dcontour\":[{\"colorbar\":{\"outlinewidth\":0,\"ticks\":\"\"},\"colorscale\":[[0.0,\"#0d0887\"],[0.1111111111111111,\"#46039f\"],[0.2222222222222222,\"#7201a8\"],[0.3333333333333333,\"#9c179e\"],[0.4444444444444444,\"#bd3786\"],[0.5555555555555556,\"#d8576b\"],[0.6666666666666666,\"#ed7953\"],[0.7777777777777778,\"#fb9f3a\"],[0.8888888888888888,\"#fdca26\"],[1.0,\"#f0f921\"]],\"type\":\"histogram2dcontour\"}],\"histogram2d\":[{\"colorbar\":{\"outlinewidth\":0,\"ticks\":\"\"},\"colorscale\":[[0.0,\"#0d0887\"],[0.1111111111111111,\"#46039f\"],[0.2222222222222222,\"#7201a8\"],[0.3333333333333333,\"#9c179e\"],[0.4444444444444444,\"#bd3786\"],[0.5555555555555556,\"#d8576b\"],[0.6666666666666666,\"#ed7953\"],[0.7777777777777778,\"#fb9f3a\"],[0.8888888888888888,\"#fdca26\"],[1.0,\"#f0f921\"]],\"type\":\"histogram2d\"}],\"histogram\":[{\"marker\":{\"pattern\":{\"fillmode\":\"overlay\",\"size\":10,\"solidity\":0.2}},\"type\":\"histogram\"}],\"mesh3d\":[{\"colorbar\":{\"outlinewidth\":0,\"ticks\":\"\"},\"type\":\"mesh3d\"}],\"parcoords\":[{\"line\":{\"colorbar\":{\"outlinewidth\":0,\"ticks\":\"\"}},\"type\":\"parcoords\"}],\"pie\":[{\"automargin\":true,\"type\":\"pie\"}],\"scatter3d\":[{\"line\":{\"colorbar\":{\"outlinewidth\":0,\"ticks\":\"\"}},\"marker\":{\"colorbar\":{\"outlinewidth\":0,\"ticks\":\"\"}},\"type\":\"scatter3d\"}],\"scattercarpet\":[{\"marker\":{\"colorbar\":{\"outlinewidth\":0,\"ticks\":\"\"}},\"type\":\"scattercarpet\"}],\"scattergeo\":[{\"marker\":{\"colorbar\":{\"outlinewidth\":0,\"ticks\":\"\"}},\"type\":\"scattergeo\"}],\"scattergl\":[{\"marker\":{\"colorbar\":{\"outlinewidth\":0,\"ticks\":\"\"}},\"type\":\"scattergl\"}],\"scattermapbox\":[{\"marker\":{\"colorbar\":{\"outlinewidth\":0,\"ticks\":\"\"}},\"type\":\"scattermapbox\"}],\"scatterpolargl\":[{\"marker\":{\"colorbar\":{\"outlinewidth\":0,\"ticks\":\"\"}},\"type\":\"scatterpolargl\"}],\"scatterpolar\":[{\"marker\":{\"colorbar\":{\"outlinewidth\":0,\"ticks\":\"\"}},\"type\":\"scatterpolar\"}],\"scatter\":[{\"fillpattern\":{\"fillmode\":\"overlay\",\"size\":10,\"solidity\":0.2},\"type\":\"scatter\"}],\"scatterternary\":[{\"marker\":{\"colorbar\":{\"outlinewidth\":0,\"ticks\":\"\"}},\"type\":\"scatterternary\"}],\"surface\":[{\"colorbar\":{\"outlinewidth\":0,\"ticks\":\"\"},\"colorscale\":[[0.0,\"#0d0887\"],[0.1111111111111111,\"#46039f\"],[0.2222222222222222,\"#7201a8\"],[0.3333333333333333,\"#9c179e\"],[0.4444444444444444,\"#bd3786\"],[0.5555555555555556,\"#d8576b\"],[0.6666666666666666,\"#ed7953\"],[0.7777777777777778,\"#fb9f3a\"],[0.8888888888888888,\"#fdca26\"],[1.0,\"#f0f921\"]],\"type\":\"surface\"}],\"table\":[{\"cells\":{\"fill\":{\"color\":\"#EBF0F8\"},\"line\":{\"color\":\"white\"}},\"header\":{\"fill\":{\"color\":\"#C8D4E3\"},\"line\":{\"color\":\"white\"}},\"type\":\"table\"}]},\"layout\":{\"annotationdefaults\":{\"arrowcolor\":\"#2a3f5f\",\"arrowhead\":0,\"arrowwidth\":1},\"autotypenumbers\":\"strict\",\"coloraxis\":{\"colorbar\":{\"outlinewidth\":0,\"ticks\":\"\"}},\"colorscale\":{\"diverging\":[[0,\"#8e0152\"],[0.1,\"#c51b7d\"],[0.2,\"#de77ae\"],[0.3,\"#f1b6da\"],[0.4,\"#fde0ef\"],[0.5,\"#f7f7f7\"],[0.6,\"#e6f5d0\"],[0.7,\"#b8e186\"],[0.8,\"#7fbc41\"],[0.9,\"#4d9221\"],[1,\"#276419\"]],\"sequential\":[[0.0,\"#0d0887\"],[0.1111111111111111,\"#46039f\"],[0.2222222222222222,\"#7201a8\"],[0.3333333333333333,\"#9c179e\"],[0.4444444444444444,\"#bd3786\"],[0.5555555555555556,\"#d8576b\"],[0.6666666666666666,\"#ed7953\"],[0.7777777777777778,\"#fb9f3a\"],[0.8888888888888888,\"#fdca26\"],[1.0,\"#f0f921\"]],\"sequentialminus\":[[0.0,\"#0d0887\"],[0.1111111111111111,\"#46039f\"],[0.2222222222222222,\"#7201a8\"],[0.3333333333333333,\"#9c179e\"],[0.4444444444444444,\"#bd3786\"],[0.5555555555555556,\"#d8576b\"],[0.6666666666666666,\"#ed7953\"],[0.7777777777777778,\"#fb9f3a\"],[0.8888888888888888,\"#fdca26\"],[1.0,\"#f0f921\"]]},\"colorway\":[\"#636efa\",\"#EF553B\",\"#00cc96\",\"#ab63fa\",\"#FFA15A\",\"#19d3f3\",\"#FF6692\",\"#B6E880\",\"#FF97FF\",\"#FECB52\"],\"font\":{\"color\":\"#2a3f5f\"},\"geo\":{\"bgcolor\":\"white\",\"lakecolor\":\"white\",\"landcolor\":\"white\",\"showlakes\":true,\"showland\":true,\"subunitcolor\":\"#C8D4E3\"},\"hoverlabel\":{\"align\":\"left\"},\"hovermode\":\"closest\",\"mapbox\":{\"style\":\"light\"},\"paper_bgcolor\":\"white\",\"plot_bgcolor\":\"white\",\"polar\":{\"angularaxis\":{\"gridcolor\":\"#EBF0F8\",\"linecolor\":\"#EBF0F8\",\"ticks\":\"\"},\"bgcolor\":\"white\",\"radialaxis\":{\"gridcolor\":\"#EBF0F8\",\"linecolor\":\"#EBF0F8\",\"ticks\":\"\"}},\"scene\":{\"xaxis\":{\"backgroundcolor\":\"white\",\"gridcolor\":\"#DFE8F3\",\"gridwidth\":2,\"linecolor\":\"#EBF0F8\",\"showbackground\":true,\"ticks\":\"\",\"zerolinecolor\":\"#EBF0F8\"},\"yaxis\":{\"backgroundcolor\":\"white\",\"gridcolor\":\"#DFE8F3\",\"gridwidth\":2,\"linecolor\":\"#EBF0F8\",\"showbackground\":true,\"ticks\":\"\",\"zerolinecolor\":\"#EBF0F8\"},\"zaxis\":{\"backgroundcolor\":\"white\",\"gridcolor\":\"#DFE8F3\",\"gridwidth\":2,\"linecolor\":\"#EBF0F8\",\"showbackground\":true,\"ticks\":\"\",\"zerolinecolor\":\"#EBF0F8\"}},\"shapedefaults\":{\"line\":{\"color\":\"#2a3f5f\"}},\"ternary\":{\"aaxis\":{\"gridcolor\":\"#DFE8F3\",\"linecolor\":\"#A2B1C6\",\"ticks\":\"\"},\"baxis\":{\"gridcolor\":\"#DFE8F3\",\"linecolor\":\"#A2B1C6\",\"ticks\":\"\"},\"bgcolor\":\"white\",\"caxis\":{\"gridcolor\":\"#DFE8F3\",\"linecolor\":\"#A2B1C6\",\"ticks\":\"\"}},\"title\":{\"x\":0.05},\"xaxis\":{\"automargin\":true,\"gridcolor\":\"#EBF0F8\",\"linecolor\":\"#EBF0F8\",\"ticks\":\"\",\"title\":{\"standoff\":15},\"zerolinecolor\":\"#EBF0F8\",\"zerolinewidth\":2},\"yaxis\":{\"automargin\":true,\"gridcolor\":\"#EBF0F8\",\"linecolor\":\"#EBF0F8\",\"ticks\":\"\",\"title\":{\"standoff\":15},\"zerolinecolor\":\"#EBF0F8\",\"zerolinewidth\":2}}},\"xaxis\":{\"anchor\":\"y\",\"domain\":[0.0,1.0],\"title\":{\"text\":\"Execution time (s)\"}},\"yaxis\":{\"anchor\":\"x\",\"domain\":[0.0,1.0],\"title\":{\"text\":\"\"},\"categoryorder\":\"array\",\"categoryarray\":[\"rewrite generate_primes\",\"rewrite longest_sum_of_consecutive_primes\",\"rewrite is_prime\",\"original\"],\"visible\":true},\"legend\":{\"title\":{\"text\":\"step\"},\"tracegroupgap\":0},\"title\":{\"text\":\"Turbocharging Performance: A 60x Speed Boost with Rust!\"},\"barmode\":\"relative\",\"showlegend\":false},                        {\"responsive\": true}                    ).then(function(){\n",
       "                            \n",
       "var gd = document.getElementById('99391c78-67bc-47e5-acdf-580a8c950521');\n",
       "var x = new MutationObserver(function (mutations, observer) {{\n",
       "        var display = window.getComputedStyle(gd).display;\n",
       "        if (!display || display === 'none') {{\n",
       "            console.log([gd, 'removed!']);\n",
       "            Plotly.purge(gd);\n",
       "            observer.disconnect();\n",
       "        }}\n",
       "}});\n",
       "\n",
       "// Listen for the removal of the full notebook cells\n",
       "var notebookContainer = gd.closest('#notebook-container');\n",
       "if (notebookContainer) {{\n",
       "    x.observe(notebookContainer, {childList: true});\n",
       "}}\n",
       "\n",
       "// Listen for the clearing of the current output cell\n",
       "var outputEl = gd.closest('.output');\n",
       "if (outputEl) {{\n",
       "    x.observe(outputEl, {childList: true});\n",
       "}}\n",
       "\n",
       "                        })                };                });            </script>        </div>"
      ]
     },
     "metadata": {},
     "output_type": "display_data"
    }
   ],
   "source": [
    "import pandas as pd\n",
    "import plotly.express as px\n",
    "\n",
    "df = pd.DataFrame(\n",
    "    {\n",
    "        \"step\": [\n",
    "            \"original\",\n",
    "            \"rewrite is_prime\",\n",
    "            \"rewrite longest_sum_of_consecutive_primes\",\n",
    "            \"rewrite generate_primes\",\n",
    "        ],\n",
    "        \"execution_time\": [5.517, 0.641, 0.252, 0.092],\n",
    "    }\n",
    ")\n",
    "fig = px.bar(\n",
    "    df,\n",
    "    x=\"execution_time\",\n",
    "    y=\"step\",\n",
    "    color=\"step\",\n",
    "    title=\"Turbocharging Performance: A 60x Speed Boost with Rust!\",\n",
    "    orientation=\"h\",\n",
    "    template=\"plotly_white\",\n",
    ")\n",
    "fig.update_yaxes(title=\"\", visible=True)\n",
    "fig.update_xaxes(title=\"Execution time (s)\")\n",
    "fig.update_layout(showlegend=False)\n",
    "\n",
    "\n",
    "fig.show()"
   ]
  },
  {
   "cell_type": "markdown",
   "id": "8f061146-ef03-4f8e-9be6-256307406297",
   "metadata": {},
   "source": [
    "And that's a wrap, everyone! In this post, we've showed you how to use `cProfile` to profile your Python code, helping you pinpoint potential bottlenecks. We've also showcased the power of the `rustimport` library, which enables you to effortlessly invoke highly optimized Rust code straight from your Python script. \n",
    "\n",
    "Have you had the chance to use these tools in your projects? Do you believe your work could benefit from Rust? I'd love to hear your thoughts. Until next time, happy coding! "
   ]
  }
 ],
 "metadata": {
  "kernelspec": {
   "display_name": "Python 3 (ipykernel)",
   "language": "python",
   "name": "python3"
  },
  "language_info": {
   "codemirror_mode": {
    "name": "ipython",
    "version": 3
   },
   "file_extension": ".py",
   "mimetype": "text/x-python",
   "name": "python",
   "nbconvert_exporter": "python",
   "pygments_lexer": "ipython3",
   "version": "3.10.12"
  }
 },
 "nbformat": 4,
 "nbformat_minor": 5
}
